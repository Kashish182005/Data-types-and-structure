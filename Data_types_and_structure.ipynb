{
  "nbformat": 4,
  "nbformat_minor": 0,
  "metadata": {
    "colab": {
      "provenance": []
    },
    "kernelspec": {
      "name": "python3",
      "display_name": "Python 3"
    },
    "language_info": {
      "name": "python"
    }
  },
  "cells": [
    {
      "cell_type": "markdown",
      "source": [
        "#**PYTHON - DATA STRUCTURE**\n",
        "#Theory Questions\n",
        "1. What are data structures, and why are they important?\n",
        " - Data structures are ways to organize and store data in a computer so it can be used efficiently. Think of them like containers or shelves, Just like you store books in a shelf or food in a fridge, You store data in lists, sets, dictionaries, tuples, arrays, etc., depending on how you want to use or access that data.\n",
        " - A data structure is a special way of organizing and storing data in a computer so that it can be used efficiently.\n",
        " - In simple terms, think of data structures as tools or formats that help you arrange data neatly, so you can access, modify, or analyze it quickly and easily.\n",
        "\n",
        " **Data structures play a crucial role in computer science, software development, and data analytics. Here's why:**\n",
        " 1. Efficient Data Management\n",
        "- Organize data logically\n",
        "- Reduce time to search, retrieve, and process data\n",
        "\n",
        " 2. Improved Searching and Sorting\n",
        "\n",
        "Data structures like arrays, linked lists, or trees can significantly speed up tasks like:\n",
        "- Searching for a specific value\n",
        "- Sorting large sets of data\n",
        "- Finding relationships between data points\n",
        "\n",
        "This is especially helpful in data analytics, where datasets can be huge.\n",
        "\n",
        " 3. Optimized Performance\n",
        "\n",
        "Choosing the right data structure leads to:\n",
        "- Faster execution of programs\n",
        "- Reduced memory usage\n",
        "- Better scalability for large applications\n",
        "For example, using a dictionary (hash map) for key-value lookup is faster than using a list.\n",
        "\n",
        "4. Essential in Data Analytics\n",
        "\n",
        "In data analytics, we often work with large datasets. Data structures help in:\n",
        "\n",
        "- Storing raw data in formats like lists or dictionaries\n",
        "- Grouping and classifying data efficiently\n",
        "- Applying algorithms to extract insights from data\n",
        "\n",
        "5. Foundation of Algorithms\n",
        "\n",
        "Most algorithms (like sorting, searching, path-finding) are based on data structures. You can't write efficient code without using them.\n",
        "\n",
        "---\n",
        "2.  Explain the difference between mutable and immutable data types with examples.\n",
        " - In Python, data types are classified into two main categories based on whether their values can be changed after creation: mutable and immutable.\n",
        " - Mutable data types are those that allow modification after the object is created. This means you can change, update, or delete elements without creating a new object in memory. Examples of mutable data types include lists, dictionaries, and sets. For instance, if you have a list my_list = [1, 2, 3] and you do my_list[0] = 10, the list becomes [10, 2, 3], and the change is reflected in the original object itself.\n",
        "  - On the other hand, immutable data types are those whose values cannot be changed once the object is created. If you attempt to change the value, Python creates a new object in memory. Common examples of immutable types are integers, floats, strings, tuples, and booleans. For example, if you write x = 10 and then x = x + 5, Python creates a new object with value 15, instead of modifying the original 10. Similarly, strings are immutable , trying to change a character like my_string[0] = 'H' would result in an error. To \"change\" it, you must create a new string like new_string = 'H' + my_string[1:].\n",
        "  - The key difference is that mutable objects can be modified in place, while immutable objects cannot. This also affects how memory is managed, as mutable objects maintain the same memory address after modification, while immutable objects get a new one.\n",
        "  - Choosing between mutable and immutable types depends on the use case — mutable types are preferred when frequent updates are needed, whereas immutable types are ideal when data integrity or fixed values are important, such as using them as dictionary keys.\n",
        "\n"
      ],
      "metadata": {
        "id": "KE-VURIujWLi"
      }
    },
    {
      "cell_type": "code",
      "source": [
        "#mutable data type example\n",
        "my_list = [1,2,3]\n",
        "my_list[0]= 10\n",
        "my_list"
      ],
      "metadata": {
        "colab": {
          "base_uri": "https://localhost:8080/"
        },
        "id": "fj5KfzsC_i2P",
        "outputId": "097f49ef-7589-4ea4-8efc-e14cf672b70c"
      },
      "execution_count": null,
      "outputs": [
        {
          "output_type": "execute_result",
          "data": {
            "text/plain": [
              "[10, 2, 3]"
            ]
          },
          "metadata": {},
          "execution_count": 1
        }
      ]
    },
    {
      "cell_type": "code",
      "source": [
        "#immutable data type example\n",
        "my_string = \"hello\"\n",
        "my_string[0]= \"H\""
      ],
      "metadata": {
        "colab": {
          "base_uri": "https://localhost:8080/",
          "height": 176
        },
        "id": "ZOKmCjSu_0l7",
        "outputId": "2266de49-573f-4dac-ce49-2ef3930d4ca4"
      },
      "execution_count": null,
      "outputs": [
        {
          "output_type": "error",
          "ename": "TypeError",
          "evalue": "'str' object does not support item assignment",
          "traceback": [
            "\u001b[0;31m---------------------------------------------------------------------------\u001b[0m",
            "\u001b[0;31mTypeError\u001b[0m                                 Traceback (most recent call last)",
            "\u001b[0;32m/tmp/ipython-input-2-1129398455.py\u001b[0m in \u001b[0;36m<cell line: 0>\u001b[0;34m()\u001b[0m\n\u001b[1;32m      1\u001b[0m \u001b[0;31m#immutable data type example\u001b[0m\u001b[0;34m\u001b[0m\u001b[0;34m\u001b[0m\u001b[0m\n\u001b[1;32m      2\u001b[0m \u001b[0mmy_string\u001b[0m \u001b[0;34m=\u001b[0m \u001b[0;34m\"hello\"\u001b[0m\u001b[0;34m\u001b[0m\u001b[0;34m\u001b[0m\u001b[0m\n\u001b[0;32m----> 3\u001b[0;31m \u001b[0mmy_string\u001b[0m\u001b[0;34m[\u001b[0m\u001b[0;36m0\u001b[0m\u001b[0;34m]\u001b[0m\u001b[0;34m=\u001b[0m \u001b[0;34m\"H\"\u001b[0m\u001b[0;34m\u001b[0m\u001b[0;34m\u001b[0m\u001b[0m\n\u001b[0m",
            "\u001b[0;31mTypeError\u001b[0m: 'str' object does not support item assignment"
          ]
        }
      ]
    },
    {
      "cell_type": "markdown",
      "source": [
        "---\n",
        "3. What are the main differences between lists and tuples in Python?\n",
        " - In Python, both lists and tuples are used to store collections of items, but there are several important differences between them:\n",
        "- The most significant difference is that lists are mutable, which means their elements can be changed, added, or removed after the list is created. In contrast, tuples are immutable, meaning once a tuple is created, its elements cannot be changed or modified. For example, in a list my_list = [1, 2, 3], you can do my_list[0] = 10, and the list will update to [10, 2, 3]. However, trying to change an element in a tuple like my_tuple = (1, 2, 3) using my_tuple[0] = 10 will result in an error.\n",
        "- Another difference lies in performance: tuples are generally faster and use less memory than lists because they are static and fixed in size. This makes tuples a good choice for read-only data or when we want to ensure the data remains unchanged. Lists, on the other hand, are more flexible and are better suited for dynamic operations where we may need to modify, append, or remove elements.\n",
        "- Additionally, syntax differs slightly lists use square brackets [ ], while tuples use parentheses (). Tuples can also be used as keys in dictionaries because they are hashable (immutable), whereas lists cannot. In summary, choose lists when we need a dynamic, changeable collection and tuples when we want a fixed, unchangeable sequence of elements.\n",
        "---\n",
        "\n",
        "4.  Describe how dictionaries store data.\n",
        " - In Python, a dictionary is a built-in data structure that stores data in the form of key-value pairs. Each key is unique and is used to access its corresponding value. Dictionaries are defined using curly braces {}, with the syntax key: value. For example, student = {\"name\": \"Ava\", \"age\": 12} is a dictionary where \"name\" and \"age\" are keys, and \"Ava\" and 12 are their respective values. Internally, Python dictionaries use a hash table to store data efficiently. When a key-value pair is added, the key is hashed to determine an index in memory where the value is stored. This allows for fast lookups, insertions, and deletions, usually in constant time, regardless of the size of the dictionary.\n",
        " - The keys in a dictionary must be of an immutable data type (like strings, numbers, or tuples), while values can be of any type, including lists, other dictionaries, or even custom objects. Dictionaries are widely used because they provide a clear and direct way to associate and access related pieces of data, making them extremely useful in data analysis, configuration settings, APIs, and more.\n",
        "---\n",
        "\n",
        "5. Why might you use a set instead of a list in Python?\n",
        " - In Python, a set is an unordered collection of unique elements, which makes it different from a list that can contain duplicate values.\n",
        " - We might choose to use a set instead of a list when you need to store only distinct items and don't care about the order of elements. Sets are particularly useful when performing operations like union, intersection, or difference, which are common in tasks involving comparison or filtering. For example, if you have a list of student names with duplicates, converting it to a set will automatically remove the repeated names, ensuring that each entry appears only once.\n",
        " - Since sets are unordered and do not support indexing or slicing, you should use them only when order and position of items don’t matter.\n",
        "---\n",
        "\n",
        "6. What is a string in Python, and how is it different from a list?\n",
        " - In Python, a string is a sequence of characters enclosed within single quotes (' '), double quotes (\" \"). It is used to store and represent text-based data like names, sentences, symbols, and more. For example, \"hello world\" is a string that contains a series of characters in a specific order. Strings are immutable, which means once a string is created, it cannot be changed, we can't alter individual characters directly without creating a new string.\n",
        " - On the other hand, a list is a collection that can hold multiple items of different data types, including strings, numbers, or even other lists. Lists are enclosed in square brackets [ ] and are mutable, meaning their contents can be modified after creation. For example, in the list ['a', 'b', 'c'], we can change 'a' to 'z' using indexing, but in the string \"abc\", we cannot change 'a' to 'z' directly.\n",
        " - While both strings and lists are sequences and support operations like indexing, slicing, and iteration, their key difference lies in mutability and the type of elements they hold. Strings hold only characters and cannot be modified in place, whereas lists can contain a mix of data types and allow changes to individual elements.\n",
        "---\n",
        "\n",
        "7. How do tuples ensure data integrity in Python?\n",
        " - In Python, tuples help ensure data integrity because they are immutable, meaning their contents cannot be changed, added to, or deleted after creation. This immutability makes tuples a reliable choice when you want to store fixed or constant data that should remain the same throughout the program. For example, a tuple like coordinates = (10, 20) ensures that the location values cannot be accidentally modified during execution. This helps protect the data from unintended changes, especially in large programs where variables may be passed around to multiple functions or modules.\n",
        " - Because of their immutability, tuples are also hashable, which means they can be used as keys in dictionaries or elements in sets, unlike lists. This allows programmers to use tuples in situations that require stable, consistent values such as database records, configuration settings, or keys in look-up operations.\n",
        " - In summary, the immutability of tuples guarantees that the data they hold remains safe and unchanged, promoting data consistency and integrity in Python programs.\n",
        "---\n",
        "\n",
        "8. What is a hash table, and how does it relate to dictionaries in Python?\n",
        " - A hash table is a data structure that stores data in the form of key-value pairs and provides very fast access to the values based on their keys. It works by applying a hash function to the key, which generates a unique index (or hash code) where the corresponding value is stored. This makes data retrieval highly efficient, usually in constant time (O(1)), even when working with large datasets.\n",
        " - In Python, the built-in dict (dictionary) data type is implemented using a hash table behind the scenes. When you create a dictionary like student = {\"name\": \"Ava\", \"age\": 12}, Python hashes the keys (\"name\" and \"age\") to quickly determine where to store the associated values (\"Ava\" and 12) in memory. Later, when you access student[\"age\"], Python doesn’t search through the entire dictionary — it uses the hash of \"age\" to directly locate and return the value.\n",
        " - The use of hash tables in dictionaries allows for quick lookups, insertions, updates, and deletions, which makes dictionaries one of the most powerful and commonly used data structures in Python. However, because keys are hashed, only immutable data types (like strings, numbers, and tuples) can be used as dictionary keys. In short, Python dictionaries rely on the concept of hash tables to offer efficient, reliable, and fast access to data through keys.\n",
        "---\n",
        " 9. Can lists contain different data types in Python?\n",
        "  - Yes, In Python 3, lists can contain elements of different data types, and this is one of the features that makes Python lists so powerful and flexible.\n",
        "  - A list in Python is an ordered, mutable collection that can store multiple items, and those items do not need to be of the same type. We can mix integers, strings, floats, booleans, lists, tuples, dictionaries, and even custom objects within a single list.\n",
        "---\n",
        "\n",
        "10.  Explain why strings are immutable in Python?\n",
        " - In Python, strings are immutable, which means that once a string is created, its contents cannot be changed. We cannot modify individual characters within a string . any operation that appears to modify a string actually creates a new string object in memory. For example, if we have text = \"hello\" and try to change the first character using text[0] = 'H', Python will raise an error because strings don’t support item assignment.\n",
        " - Python strings are immutable to enhance security, consistency, performance, and to allow strings to be used as reliable, hashable data types in various structures like dictionaries and sets.\n",
        "---\n",
        "\n",
        "11. What advantages do dictionaries offer over lists for certain tasks?\n",
        " - Dictionaries in Python offer several advantages over lists for specific types of tasks, especially when it comes to storing and accessing data efficiently using unique identifiers. While lists are ideal for storing sequences of items that are accessed by their position (index), dictionaries allow you to store data in key-value pairs, enabling fast and direct access to values using meaningful keys instead of numeric indexes. This makes dictionaries especially useful when you want to associate related pieces of information, such as storing a person's name, age, and address with keys like \"name\", \"age\", and \"address\".\n",
        " - One of the biggest advantages is speed: dictionaries use hash tables internally, allowing them to retrieve, update, or delete values in constant time (O(1)), regardless of the dictionary’s size. In contrast, searching for an item in a list requires scanning through each element until a match is found, which can be much slower (O(n)) as the list grows. Dictionaries also improve readability and code organization, as accessing student[\"marks\"] is much more intuitive than student_data[2] in a list.\n",
        "---\n",
        "\n",
        "12. Describe a scenario where using a tuple would be preferable over a list.\n",
        " - A scenario where using a tuple would be preferable over a list is when we want to store a fixed set of values that should not change throughout the program, such as the coordinates of a location.\n",
        " - For example, if we are working on a mapping application and need to store the latitude and longitude of a city, we could use a tuple like coordinates = (28.6139, 77.2090) for New Delhi. Since coordinates are constant and should not be accidentally modified, a tuple is ideal because it is immutable , once created, it cannot be altered. This helps maintain data integrity and avoids bugs that might result from unintentional changes to critical values. Additionally, tuples use less memory and perform faster than lists, making them more efficient for read-only data or as keys in dictionaries.\n",
        "---\n",
        "\n",
        "13. How do sets handle duplicate values in Python?\n",
        " - In Python 3, a set is a built-in data structure that automatically removes duplicate values and only stores unique elements. When we create a set, any repeated elements are automatically discarded without raising an error. For example, if you write my_set = {1, 2, 2, 3, 3, 3}, Python will store it as {1, 2, 3} removing all the duplicates silently. This unique property makes sets especially useful when we need to filter out repeated values from a list or ensure that a collection contains only distinct items. Sets are unordered, meaning they do not maintain the insertion order, and they are optimized for fast membership testing, such as checking if a value exists in the set."
      ],
      "metadata": {
        "id": "nmKaCxZfAHgw"
      }
    },
    {
      "cell_type": "code",
      "source": [
        "numbers = [1,1,2,3,2,4,5,2,3,5,4,1,2]\n",
        "unique_numbers = set(numbers)\n",
        "print (unique_numbers)"
      ],
      "metadata": {
        "colab": {
          "base_uri": "https://localhost:8080/"
        },
        "id": "sBK8iWMMTnAS",
        "outputId": "87153ad7-66ec-45b5-b31f-537ef065a691"
      },
      "execution_count": null,
      "outputs": [
        {
          "output_type": "stream",
          "name": "stdout",
          "text": [
            "{1, 2, 3, 4, 5}\n"
          ]
        }
      ]
    },
    {
      "cell_type": "markdown",
      "source": [
        "---\n",
        "14. How does the “in” keyword work differently for lists and dictionaries?\n",
        " - In Python, the \"in\"  keyword is used to check if a value exists within a collection, but it behaves differently when used with lists and dictionaries. When used with a list, the in keyword checks whether a specific element is present in the list. For example, in my_list = [1, 2, 3], the expression 2 in my_list will return True because 2 is an element in the list.\n",
        " - However, when used with a dictionary, the \"in\" keyword checks only for the presence of a key, not a value. So, if you have my_dict = {\"name\": \"Ava\", \"age\": 12}, then 'name' in my_dict will return True because 'name' is a key. But 'Ava' in my_dict will return False, because 'Ava' is a value, not a key.\n",
        " - In summary, in checks elements in a list, but keys in a dictionary by default, making its behavior slightly different depending on the data structure.\n",
        "---\n",
        "\n",
        "15. Can you modify the elements of a tuple? Explain why or why not?\n",
        " - No, we cannot modify the elements of a tuple in Python because tuples are immutable. Once a tuple is created, its contents — including the number of elements and their values — cannot be changed. This means we cannot add, remove, or update elements within a tuple. For example, if I have my_tuple = (1, 2, 3) and try to change the first element using my_tuple[0] = 10, Python will raise a TypeError. This immutability is a key feature of tuples and is designed to ensure that the data remains constant and protected from accidental modification.\n",
        "---\n",
        "\n",
        "16. What is a nested dictionary, and give an example of its use case?\n",
        " - A nested dictionary in Python is a dictionary within another dictionary. This means that the value of one or more keys in a dictionary is itself another dictionary. Nested dictionaries are useful for storing complex and structured data, especially when we want to represent things in multiple levels  like storing information about students, employees, or products in a hierarchical format.\n",
        "---\n",
        "\n",
        "17.  Describe the time complexity of accessing elements in a dictionary.\n",
        " - In Python, accessing elements in a dictionary is very efficient because dictionaries are implemented using a hash table. The average time complexity for accessing an element by its key is O(1), which means it takes constant time, regardless of the size of the dictionary. This efficiency comes from how dictionaries use a hash function to convert the key into a unique index, allowing Python to directly access the value without having to search through all the keys.\n",
        "---\n",
        "\n",
        "18. In what situations are lists preferred over dictionaries?\n",
        " - Lists are preferred over dictionaries when we need to store a collection of ordered items, especially when the position or sequence of elements matters. Since lists maintain the order in which items are inserted, they are ideal for tasks like iterating through a series of items, keeping a to-do list, storing a series of numbers, or managing a queue. Lists are also useful when index-based access is required .for example, when we want to get the item at a specific position like list[2].\n",
        " - Another scenario where lists are preferred is when the data doesn’t require unique identifiers or keys. Lists are simpler and more memory-efficient for small collections of items that do not need to be labeled. They are also better suited for operations that involve sorting, appending items, or performing mathematical calculations on numerical values in a sequence.\n",
        " - In short, choose a list when we have a group of values where order matters, and there's no need for quick lookup by a specific key — for example, when working with rows of a table, series of user inputs, or daily temperatures.\n",
        "---\n",
        "\n",
        "19. Why are dictionaries considered unordered, and how does that affect data retrieval?\n",
        " - Dictionaries in Python are considered unordered collections because they are designed to store and retrieve values using keys, not based on the order in which the elements were added. Unlike lists or tuples, where each element has a fixed position or index, dictionaries rely on a hashing mechanism to map keys to their corresponding values. This means that, traditionally, the order of items in a dictionary was not guaranteed, and the elements could appear in a different order every time you accessed or printed the dictionary.\n",
        " - This unordered nature does not affect data retrieval by key — in fact, it makes retrieval very fast. When you ask for a value using a key like my_dict[\"name\"], Python quickly computes the hash of the key and jumps directly to the location in memory where the value is stored. So, even though the data isn't stored in any particular order, you still get the correct value immediately, without having to search through the entire dictionary.\n",
        " - In newer versions of Python (3.7+), dictionaries do preserve insertion order, but this is mostly for convenience during iteration the primary way to access data in a dictionary is still by key, not by position. Therefore, dictionaries are perfect for tasks that need fast lookups and key-based data access, not ordered data like lists.\n",
        "---\n",
        "\n",
        "20.  Explain the difference between a list and a dictionary in terms of data retrieval.\n",
        " - The main difference between a list and a dictionary in terms of data retrieval lies in how data is accessed.\n",
        " - In a list, data is retrieved using index positions. Each item in a list is assigned a numerical index starting from 0, and we can access elements by referring to these positions. For example, my_list[0] returns the first item in the list. This means list retrieval is position-based, and to find a specific item by its value (not index), Python may need to search through the entire list, which takes longer (O(n) time).\n",
        " - On the other hand, in a dictionary, data is retrieved using unique keys. Instead of using positions, you access values by providing their corresponding key, like my_dict[\"name\"]. Dictionaries use a hash table internally, so retrieving data by key is very fast and efficient, usually done in constant time (O(1)), regardless of the dictionary's size.\n",
        " - In summary:\n",
        "\n",
        "- Lists use numerical indexes and are best when order matters.\n",
        "\n",
        "- Dictionaries use unique keys and are best for quick lookups and key-value relationships.\n",
        "---\n"
      ],
      "metadata": {
        "id": "mWRqGGTvUL3t"
      }
    },
    {
      "cell_type": "markdown",
      "source": [
        "#**PRACTICAL QUESTIONS**\n"
      ],
      "metadata": {
        "id": "jOm6ZwQitNOl"
      }
    },
    {
      "cell_type": "markdown",
      "source": [
        "1. Write a code to create a string with your name and print it."
      ],
      "metadata": {
        "id": "NTvhDgt8wTie"
      }
    },
    {
      "cell_type": "code",
      "source": [
        "my_name = \"Kashish Grover\"\n",
        "print(\"My name is:\", my_name)"
      ],
      "metadata": {
        "colab": {
          "base_uri": "https://localhost:8080/"
        },
        "id": "dYC8pgjywak3",
        "outputId": "cd893667-69d6-47a9-a766-b401186beb51"
      },
      "execution_count": null,
      "outputs": [
        {
          "output_type": "stream",
          "name": "stdout",
          "text": [
            "My name is: Kashish Grover\n"
          ]
        }
      ]
    },
    {
      "cell_type": "markdown",
      "source": [
        "2.  Write a code to find the length of the string \"Hello World\""
      ],
      "metadata": {
        "id": "s62tQyfXw3be"
      }
    },
    {
      "cell_type": "code",
      "source": [
        "string = \"Hello World\"\n",
        "print(\"The lenghth of the string is\", len(string))"
      ],
      "metadata": {
        "colab": {
          "base_uri": "https://localhost:8080/"
        },
        "id": "VzEhXX4lw_pa",
        "outputId": "7dd1e53b-a7ac-4f1c-fa84-a1f04d25937e"
      },
      "execution_count": null,
      "outputs": [
        {
          "output_type": "stream",
          "name": "stdout",
          "text": [
            "The lenghth of the string is 11\n"
          ]
        }
      ]
    },
    {
      "cell_type": "markdown",
      "source": [
        "3. Write a code to slice the first 3 characters from the string \"Python Programming\""
      ],
      "metadata": {
        "id": "1V93Hm6_yWMF"
      }
    },
    {
      "cell_type": "code",
      "source": [
        "string = \"Python Programming\"\n",
        "sliced_string = string[:3]\n",
        "print(\"First three characters are :\", sliced_string)"
      ],
      "metadata": {
        "colab": {
          "base_uri": "https://localhost:8080/"
        },
        "id": "AgQfFM4mycAZ",
        "outputId": "2abffb95-b099-4589-d0b3-18f520ae88a9"
      },
      "execution_count": null,
      "outputs": [
        {
          "output_type": "stream",
          "name": "stdout",
          "text": [
            "First three characters are : Pyt\n"
          ]
        }
      ]
    },
    {
      "cell_type": "markdown",
      "source": [
        "4. Write a code to convert the string \"hello\" to uppercase."
      ],
      "metadata": {
        "id": "wS2wxd2Xy76S"
      }
    },
    {
      "cell_type": "code",
      "source": [
        "string = \"hello\"\n",
        "uppercase_string = string.upper()\n",
        "print(\"Uppercase string :\", uppercase_string)"
      ],
      "metadata": {
        "colab": {
          "base_uri": "https://localhost:8080/"
        },
        "id": "bqKYhDJAzCIc",
        "outputId": "a58c12d1-d823-46b0-cd64-14ff66241311"
      },
      "execution_count": null,
      "outputs": [
        {
          "output_type": "stream",
          "name": "stdout",
          "text": [
            "Uppercase string : HELLO\n"
          ]
        }
      ]
    },
    {
      "cell_type": "markdown",
      "source": [
        "5. Write a code to replace the word \"apple\" with \"orange\" in the string \"I like apple\"."
      ],
      "metadata": {
        "id": "5zFBhLyuza2L"
      }
    },
    {
      "cell_type": "code",
      "source": [
        "string = \"I like apple\"\n",
        "new_string = string.replace(\"apple\", \"orange\")\n",
        "print(\"Updated string:\", new_string)"
      ],
      "metadata": {
        "colab": {
          "base_uri": "https://localhost:8080/"
        },
        "id": "4uu8d-psznia",
        "outputId": "cd996afd-61d2-4853-bdc0-3ec14438bd90"
      },
      "execution_count": null,
      "outputs": [
        {
          "output_type": "stream",
          "name": "stdout",
          "text": [
            "Updated string: I like orange\n"
          ]
        }
      ]
    },
    {
      "cell_type": "markdown",
      "source": [
        "6. Write a code to create a list with numbers 1 to 5 and print it"
      ],
      "metadata": {
        "id": "SOOTR8Nk0C00"
      }
    },
    {
      "cell_type": "code",
      "source": [
        "list = [1,2,3,4,5]\n",
        "print(list)"
      ],
      "metadata": {
        "colab": {
          "base_uri": "https://localhost:8080/"
        },
        "id": "aTSXAxWM0HxF",
        "outputId": "179e0ae4-bf38-48d2-9a88-0bc634900f35"
      },
      "execution_count": null,
      "outputs": [
        {
          "output_type": "stream",
          "name": "stdout",
          "text": [
            "[1, 2, 3, 4, 5]\n"
          ]
        }
      ]
    },
    {
      "cell_type": "markdown",
      "source": [
        "7. Write a code to append the number 10 to the list [1, 2, 3, 4]"
      ],
      "metadata": {
        "id": "gaaOgHB10gUB"
      }
    },
    {
      "cell_type": "code",
      "source": [
        "list = [1,2,3,4,5]\n",
        "list.append(10)\n",
        "print (\"updated list:\", list)"
      ],
      "metadata": {
        "colab": {
          "base_uri": "https://localhost:8080/"
        },
        "id": "8A6qPPqZ0l0f",
        "outputId": "1af6cddd-2e45-45b3-b79b-09fe0f74d4cc"
      },
      "execution_count": null,
      "outputs": [
        {
          "output_type": "stream",
          "name": "stdout",
          "text": [
            "updated list: [1, 2, 3, 4, 5, 10]\n"
          ]
        }
      ]
    },
    {
      "cell_type": "markdown",
      "source": [
        "8. Write a code to remove the number 3 from the list [1, 2, 3, 4, 5]"
      ],
      "metadata": {
        "id": "wkBlJDy9032G"
      }
    },
    {
      "cell_type": "code",
      "source": [
        "list = [1,2,3,4,5]\n",
        "list.remove(3)\n",
        "print(\"updated list:\", list)"
      ],
      "metadata": {
        "colab": {
          "base_uri": "https://localhost:8080/"
        },
        "id": "AnlORvYF08zM",
        "outputId": "04adc933-93b7-44b8-89e5-1fef95d228d2"
      },
      "execution_count": null,
      "outputs": [
        {
          "output_type": "stream",
          "name": "stdout",
          "text": [
            "updated list: [1, 2, 4, 5]\n"
          ]
        }
      ]
    },
    {
      "cell_type": "markdown",
      "source": [
        "9. Write a code to access the second element in the list ['a', 'b', 'c', 'd']"
      ],
      "metadata": {
        "id": "Nc9alVzQ1TyH"
      }
    },
    {
      "cell_type": "code",
      "source": [
        "list =['a', 'b', 'c', 'd']\n",
        "second_element = list[1]\n",
        "print(\"Second element:\", second_element)"
      ],
      "metadata": {
        "colab": {
          "base_uri": "https://localhost:8080/"
        },
        "id": "ztWKWFYE1ZH9",
        "outputId": "04e0813e-4c99-4091-e04b-19ab02dd3126"
      },
      "execution_count": null,
      "outputs": [
        {
          "output_type": "stream",
          "name": "stdout",
          "text": [
            "Second element: b\n"
          ]
        }
      ]
    },
    {
      "cell_type": "markdown",
      "source": [
        "10. Write a code to reverse the list [10, 20, 30, 40, 50]."
      ],
      "metadata": {
        "id": "mPNCHW561uku"
      }
    },
    {
      "cell_type": "code",
      "source": [
        "list = [10, 20, 30, 40, 50]\n",
        "list.reverse()\n",
        "print (\"reversed list:\", list)"
      ],
      "metadata": {
        "colab": {
          "base_uri": "https://localhost:8080/"
        },
        "id": "qidJW5DU14q6",
        "outputId": "edd81ed6-b77a-4282-b72b-1a3e8c30698b"
      },
      "execution_count": null,
      "outputs": [
        {
          "output_type": "stream",
          "name": "stdout",
          "text": [
            "reversed list: [50, 40, 30, 20, 10]\n"
          ]
        }
      ]
    },
    {
      "cell_type": "markdown",
      "source": [
        "11. Write a code to create a tuple with the elements 100, 200, 300 and print it."
      ],
      "metadata": {
        "id": "dtBUiS4F2Tm2"
      }
    },
    {
      "cell_type": "code",
      "source": [
        "my_tuple = (100,200,300)\n",
        "print (my_tuple)"
      ],
      "metadata": {
        "colab": {
          "base_uri": "https://localhost:8080/"
        },
        "id": "cU3CvsUl2jNd",
        "outputId": "dcb43909-4be7-4a4a-99cb-085ad3de2acb"
      },
      "execution_count": null,
      "outputs": [
        {
          "output_type": "stream",
          "name": "stdout",
          "text": [
            "(100, 200, 300)\n"
          ]
        }
      ]
    },
    {
      "cell_type": "markdown",
      "source": [
        "12. Write a code to access the second-to-last element of the tuple ('red', 'green', 'blue', 'yellow')."
      ],
      "metadata": {
        "id": "ISI3jrdX3oTb"
      }
    },
    {
      "cell_type": "code",
      "source": [
        "colour_tuple = ('red', 'green', 'blue', 'yellow')\n",
        "second_last = colour_tuple[-2]\n",
        "print (\"Second-to-last element:\", second_last)\n"
      ],
      "metadata": {
        "colab": {
          "base_uri": "https://localhost:8080/"
        },
        "id": "nweU3ibD37WR",
        "outputId": "e43c2499-f611-4e10-b344-4608da86abc9"
      },
      "execution_count": null,
      "outputs": [
        {
          "output_type": "stream",
          "name": "stdout",
          "text": [
            "Second-to-last element: blue\n"
          ]
        }
      ]
    },
    {
      "cell_type": "markdown",
      "source": [
        "13. Write a code to find the minimum number in the tuple (10, 20, 5, 15)."
      ],
      "metadata": {
        "id": "4LZBOQ8R4iCH"
      }
    },
    {
      "cell_type": "code",
      "source": [
        "my_tuple = (10,20,5,15)\n",
        "minimum_number = min(my_tuple)\n",
        "print(\"Minimum number:\", minimum_number)"
      ],
      "metadata": {
        "colab": {
          "base_uri": "https://localhost:8080/"
        },
        "id": "bKTCl5ds4pPM",
        "outputId": "9fe7c647-c9d6-4f47-c2ba-ce45dd50bcb8"
      },
      "execution_count": null,
      "outputs": [
        {
          "output_type": "stream",
          "name": "stdout",
          "text": [
            "Minimum number: 5\n"
          ]
        }
      ]
    },
    {
      "cell_type": "markdown",
      "source": [
        "14.  Write a code to find the index of the element \"cat\" in the tuple ('dog', 'cat', 'rabbit')."
      ],
      "metadata": {
        "id": "Z0IrYLH_9WMt"
      }
    },
    {
      "cell_type": "code",
      "source": [
        "animals = ('dog', 'cat', 'rabbit')\n",
        "index = animals.index('cat')\n",
        "print (\"Index of cat is\", index)"
      ],
      "metadata": {
        "colab": {
          "base_uri": "https://localhost:8080/"
        },
        "id": "INcRZz-A9dE8",
        "outputId": "f261247c-e63a-4fe9-99d4-5d8eca494482"
      },
      "execution_count": null,
      "outputs": [
        {
          "output_type": "stream",
          "name": "stdout",
          "text": [
            "Index of cat is 1\n"
          ]
        }
      ]
    },
    {
      "cell_type": "markdown",
      "source": [
        " 15. Write a code to create a tuple containing three different fruits and check if \"kiwi\" is in it."
      ],
      "metadata": {
        "id": "_lLgdzDaAqQh"
      }
    },
    {
      "cell_type": "code",
      "source": [
        "fruits = (\"apple\", \"banana\", \"mango\")\n",
        "\n",
        "# Check if \"kiwi\" is in the tuple\n",
        "if \"kiwi\" in fruits:\n",
        "    print(\"Kiwi is in the tuple.\")\n",
        "else:\n",
        "    print(\"Kiwi is not in the tuple.\")"
      ],
      "metadata": {
        "colab": {
          "base_uri": "https://localhost:8080/"
        },
        "id": "eXqi8UtZCe8W",
        "outputId": "f6937e5b-4a08-40e2-a561-561d1c275fd7"
      },
      "execution_count": null,
      "outputs": [
        {
          "output_type": "stream",
          "name": "stdout",
          "text": [
            "Kiwi is not in the tuple.\n"
          ]
        }
      ]
    },
    {
      "cell_type": "markdown",
      "source": [
        "16.  Write a code to create a set with the elements 'a', 'b', 'c' and print it."
      ],
      "metadata": {
        "id": "i73dBvF7Cvdl"
      }
    },
    {
      "cell_type": "code",
      "source": [
        "my_set = {'a', 'b', 'c'}\n",
        "print(\"Set:\", my_set)"
      ],
      "metadata": {
        "colab": {
          "base_uri": "https://localhost:8080/"
        },
        "id": "pGtcd2BlC58j",
        "outputId": "d4d90712-117a-4570-b2b5-48d919fdf644"
      },
      "execution_count": null,
      "outputs": [
        {
          "output_type": "stream",
          "name": "stdout",
          "text": [
            "Set: {'b', 'c', 'a'}\n"
          ]
        }
      ]
    },
    {
      "cell_type": "markdown",
      "source": [
        "17.  Write a code to clear all elements from the set {1, 2, 3, 4, 5}."
      ],
      "metadata": {
        "id": "amqD2KuADLc-"
      }
    },
    {
      "cell_type": "code",
      "source": [
        "my_set = {1, 2, 3, 4, 5}\n",
        "my_set.clear()\n",
        "print(\"Set after clearing:\", my_set)\n"
      ],
      "metadata": {
        "colab": {
          "base_uri": "https://localhost:8080/"
        },
        "id": "JYlo275jDRJS",
        "outputId": "0277e515-7700-4ddb-c042-fb4214347f4e"
      },
      "execution_count": null,
      "outputs": [
        {
          "output_type": "stream",
          "name": "stdout",
          "text": [
            "Set after clearing: set()\n"
          ]
        }
      ]
    },
    {
      "cell_type": "markdown",
      "source": [
        "18. Write a code to remove the element 4 from the set {1, 2, 3, 4}."
      ],
      "metadata": {
        "id": "7aF5XfOX3KSF"
      }
    },
    {
      "cell_type": "code",
      "source": [
        "my_set = {1, 2, 3, 4}\n",
        "my_set.remove(4)\n",
        "print(my_set)"
      ],
      "metadata": {
        "colab": {
          "base_uri": "https://localhost:8080/"
        },
        "id": "CBMFv8-V3RAf",
        "outputId": "7dcfad70-5f07-46e6-ac4b-f3ddedd2b6b7"
      },
      "execution_count": 1,
      "outputs": [
        {
          "output_type": "stream",
          "name": "stdout",
          "text": [
            "{1, 2, 3}\n"
          ]
        }
      ]
    },
    {
      "cell_type": "markdown",
      "source": [
        "19.  Write a code to find the union of two sets {1, 2, 3} and {3, 4, 5}."
      ],
      "metadata": {
        "id": "O_fR3M1v3Vfw"
      }
    },
    {
      "cell_type": "code",
      "source": [
        "set1 = {1, 2, 3}\n",
        "set2 = {3, 4, 5}\n",
        "\n",
        "union_set = set1.union(set2)\n",
        "print(union_set)\n"
      ],
      "metadata": {
        "colab": {
          "base_uri": "https://localhost:8080/"
        },
        "id": "yeH8Hhs53b1i",
        "outputId": "3217a3b8-c75c-4702-eaa1-3f2b621dd80e"
      },
      "execution_count": 2,
      "outputs": [
        {
          "output_type": "stream",
          "name": "stdout",
          "text": [
            "{1, 2, 3, 4, 5}\n"
          ]
        }
      ]
    },
    {
      "cell_type": "markdown",
      "source": [
        "20.  Write a code to find the intersection of two sets {1, 2, 3} and {2, 3, 4}."
      ],
      "metadata": {
        "id": "kCwaqn333hO_"
      }
    },
    {
      "cell_type": "code",
      "source": [
        "set1 = {1, 2, 3}\n",
        "set2 = {2, 3, 4}\n",
        "\n",
        "intersection_set = set1.intersection(set2)\n",
        "print(intersection_set)\n"
      ],
      "metadata": {
        "colab": {
          "base_uri": "https://localhost:8080/"
        },
        "id": "3IW20Tns3pCl",
        "outputId": "5cd772db-b2d3-40cb-a90e-249fc6a81bf5"
      },
      "execution_count": 3,
      "outputs": [
        {
          "output_type": "stream",
          "name": "stdout",
          "text": [
            "{2, 3}\n"
          ]
        }
      ]
    },
    {
      "cell_type": "markdown",
      "source": [
        "21.  Write a code to create a dictionary with the keys \"name\", \"age\", and \"city\", and print it."
      ],
      "metadata": {
        "id": "UXyQQwLD3wfy"
      }
    },
    {
      "cell_type": "code",
      "source": [
        "person = {\n",
        "    \"name\": \"Alice\",\n",
        "    \"age\": 25,\n",
        "    \"city\": \"New York\"\n",
        "}\n",
        "\n",
        "print(person)\n"
      ],
      "metadata": {
        "colab": {
          "base_uri": "https://localhost:8080/"
        },
        "id": "0AX5JMun32AS",
        "outputId": "7a1f3107-8901-48ba-8e22-20e5f4f3d53f"
      },
      "execution_count": 4,
      "outputs": [
        {
          "output_type": "stream",
          "name": "stdout",
          "text": [
            "{'name': 'Alice', 'age': 25, 'city': 'New York'}\n"
          ]
        }
      ]
    },
    {
      "cell_type": "markdown",
      "source": [
        "22.  Write a code to add a new key-value pair \"country\": \"USA\" to the dictionary {'name': 'John', 'age': 25}."
      ],
      "metadata": {
        "id": "rzMbMz5G37DY"
      }
    },
    {
      "cell_type": "code",
      "source": [
        "person = {'name': 'John', 'age': 25}\n",
        "person['country'] = 'USA'\n",
        "\n",
        "print(person)\n"
      ],
      "metadata": {
        "colab": {
          "base_uri": "https://localhost:8080/"
        },
        "id": "BwGG-vf04CW9",
        "outputId": "3ea4c0e1-e401-4688-cf71-1dd048f1b5a2"
      },
      "execution_count": 5,
      "outputs": [
        {
          "output_type": "stream",
          "name": "stdout",
          "text": [
            "{'name': 'John', 'age': 25, 'country': 'USA'}\n"
          ]
        }
      ]
    },
    {
      "cell_type": "markdown",
      "source": [
        "23.  Write a code to access the value associated with the key \"name\" in the dictionary {'name': 'Alice', 'age': 30}."
      ],
      "metadata": {
        "id": "Keg78L-74LLG"
      }
    },
    {
      "cell_type": "code",
      "source": [
        "person = {'name': 'Alice', 'age': 30}\n",
        "print(person.get('name'))\n"
      ],
      "metadata": {
        "colab": {
          "base_uri": "https://localhost:8080/"
        },
        "id": "7XowJsxL4UIM",
        "outputId": "926a803f-a110-4ce4-a716-077bb73c392b"
      },
      "execution_count": 7,
      "outputs": [
        {
          "output_type": "stream",
          "name": "stdout",
          "text": [
            "Alice\n"
          ]
        }
      ]
    },
    {
      "cell_type": "markdown",
      "source": [
        "24. Write a code to remove the key \"age\" from the dictionary {'name': 'Bob', 'age': 22, 'city': 'New York'}."
      ],
      "metadata": {
        "id": "BPc-oEMB4XoA"
      }
    },
    {
      "cell_type": "code",
      "source": [
        "person = {'name': 'Bob', 'age': 22, 'city': 'New York'}\n",
        "person.pop('age')\n",
        "\n",
        "print(person)\n"
      ],
      "metadata": {
        "colab": {
          "base_uri": "https://localhost:8080/"
        },
        "id": "zoFEYhBf4lEs",
        "outputId": "d26c378b-a6e3-45f0-a27a-876ace760a72"
      },
      "execution_count": 10,
      "outputs": [
        {
          "output_type": "stream",
          "name": "stdout",
          "text": [
            "{'name': 'Bob', 'city': 'New York'}\n"
          ]
        }
      ]
    },
    {
      "cell_type": "markdown",
      "source": [
        "25.  Write a code to check if the key \"city\" exists in the dictionary {'name': 'Alice', 'city': 'Paris'}"
      ],
      "metadata": {
        "id": "2sXfubyG45yG"
      }
    },
    {
      "cell_type": "code",
      "source": [
        "person = {'name': 'Alice', 'city': 'Paris'}\n",
        "\n",
        "if 'city' in person:\n",
        "    print(\"Key 'city' exists in the dictionary.\")\n",
        "else:\n",
        "    print(\"Key 'city' does not exist in the dictionary.\")\n"
      ],
      "metadata": {
        "colab": {
          "base_uri": "https://localhost:8080/"
        },
        "id": "Kq3uTt5z4-tm",
        "outputId": "977809ec-8055-4a89-86b5-d0d6da98abfd"
      },
      "execution_count": 11,
      "outputs": [
        {
          "output_type": "stream",
          "name": "stdout",
          "text": [
            "Key 'city' exists in the dictionary.\n"
          ]
        }
      ]
    },
    {
      "cell_type": "markdown",
      "source": [
        "26.  Write a code to create a list, a tuple, and a dictionary, and print them all."
      ],
      "metadata": {
        "id": "Q30EHDPo5D5j"
      }
    },
    {
      "cell_type": "code",
      "source": [
        "# Creating a list\n",
        "my_list = [1, 2, 3, 4]\n",
        "\n",
        "# Creating a tuple\n",
        "my_tuple = ('apple', 'banana', 'cherry')\n",
        "\n",
        "# Creating a dictionary\n",
        "my_dict = {'name': 'Alice', 'age': 25}\n",
        "\n",
        "print(\"List:\", my_list)\n",
        "print(\"Tuple:\", my_tuple)\n",
        "print(\"Dictionary:\", my_dict)\n"
      ],
      "metadata": {
        "colab": {
          "base_uri": "https://localhost:8080/"
        },
        "id": "LP8BKUb05I13",
        "outputId": "6f8f89a7-6baa-4bd4-a9a1-799bfd0efdc6"
      },
      "execution_count": 12,
      "outputs": [
        {
          "output_type": "stream",
          "name": "stdout",
          "text": [
            "List: [1, 2, 3, 4]\n",
            "Tuple: ('apple', 'banana', 'cherry')\n",
            "Dictionary: {'name': 'Alice', 'age': 25}\n"
          ]
        }
      ]
    },
    {
      "cell_type": "markdown",
      "source": [
        "27. Write a code to create a list of 5 random numbers between 1 and 100, sort it in ascending order, and print the\n",
        "result.(replaced)"
      ],
      "metadata": {
        "id": "-9rdj2Cc5QD9"
      }
    },
    {
      "cell_type": "code",
      "source": [
        "import random\n",
        "\n",
        "# Create a list of 5 random numbers between 1 and 100\n",
        "random_numbers = random.sample(range(1, 101), 5)\n",
        "\n",
        "# Sort the list in ascending order\n",
        "random_numbers.sort()\n",
        "print(\"Sorted random numbers:\", random_numbers)\n"
      ],
      "metadata": {
        "colab": {
          "base_uri": "https://localhost:8080/"
        },
        "id": "APf-yXNM5V8L",
        "outputId": "eb1467f5-e213-4120-9d45-69bce97f4538"
      },
      "execution_count": 13,
      "outputs": [
        {
          "output_type": "stream",
          "name": "stdout",
          "text": [
            "Sorted random numbers: [13, 28, 73, 84, 91]\n"
          ]
        }
      ]
    },
    {
      "cell_type": "markdown",
      "source": [
        "28.  Write a code to create a list with strings and print the element at the third index."
      ],
      "metadata": {
        "id": "9Zb6lbUt5es7"
      }
    },
    {
      "cell_type": "code",
      "source": [
        "# Creating a list of strings\n",
        "fruits = [\"apple\", \"banana\", \"cherry\", \"orange\", \"grape\"]\n",
        "\n",
        "# Printing the element at the third index\n",
        "print(\"Element at third index:\", fruits[3])\n"
      ],
      "metadata": {
        "colab": {
          "base_uri": "https://localhost:8080/"
        },
        "id": "DzcDyhog5jKR",
        "outputId": "da3c3d11-fc2e-4e5b-ab6e-19d76534d4be"
      },
      "execution_count": 14,
      "outputs": [
        {
          "output_type": "stream",
          "name": "stdout",
          "text": [
            "Element at third index: orange\n"
          ]
        }
      ]
    },
    {
      "cell_type": "markdown",
      "source": [
        "29.  Write a code to combine two dictionaries into one and print the result.\n",
        "\n"
      ],
      "metadata": {
        "id": "CvsHl-Ll5ps5"
      }
    },
    {
      "cell_type": "code",
      "source": [
        "dict1 = {'a': 1, 'b': 2}\n",
        "dict2 = {'c': 3, 'd': 4}\n",
        "\n",
        "# Combine the dictionaries\n",
        "combined_dict = {**dict1, **dict2}\n",
        "\n",
        "# Print the result\n",
        "print(\"Combined dictionary:\", combined_dict)\n"
      ],
      "metadata": {
        "colab": {
          "base_uri": "https://localhost:8080/"
        },
        "id": "4pOhbb145u0c",
        "outputId": "e54a47a6-0c52-4449-bfa9-bd84ae503829"
      },
      "execution_count": 15,
      "outputs": [
        {
          "output_type": "stream",
          "name": "stdout",
          "text": [
            "Combined dictionary: {'a': 1, 'b': 2, 'c': 3, 'd': 4}\n"
          ]
        }
      ]
    },
    {
      "cell_type": "markdown",
      "source": [
        "30. Write a code to convert a list of strings into a set."
      ],
      "metadata": {
        "id": "9c-X8tY95zJN"
      }
    },
    {
      "cell_type": "code",
      "source": [
        "# List of strings\n",
        "fruits = [\"apple\", \"banana\", \"cherry\", \"apple\", \"banana\"]\n",
        "\n",
        "# Convert list to set\n",
        "fruits_set = set(fruits)\n",
        "\n",
        "# Print the result\n",
        "print(\"Set of fruits:\", fruits_set)\n"
      ],
      "metadata": {
        "colab": {
          "base_uri": "https://localhost:8080/"
        },
        "id": "m-AX53RF55aM",
        "outputId": "a66e05b7-9f59-4ce5-f7ac-a53f03c8703c"
      },
      "execution_count": 16,
      "outputs": [
        {
          "output_type": "stream",
          "name": "stdout",
          "text": [
            "Set of fruits: {'banana', 'cherry', 'apple'}\n"
          ]
        }
      ]
    }
  ]
}